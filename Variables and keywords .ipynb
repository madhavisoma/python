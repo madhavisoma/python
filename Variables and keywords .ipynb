{
 "cells": [
  {
   "cell_type": "code",
   "execution_count": 1,
   "id": "2a914204",
   "metadata": {},
   "outputs": [
    {
     "name": "stdout",
     "output_type": "stream",
     "text": [
      "Hi\n"
     ]
    }
   ],
   "source": [
    "print(\"Hi\")"
   ]
  },
  {
   "cell_type": "code",
   "execution_count": 10,
   "id": "026e0241",
   "metadata": {},
   "outputs": [
    {
     "name": "stdout",
     "output_type": "stream",
     "text": [
      "This is my First Python programm\n"
     ]
    }
   ],
   "source": [
    "print(\"This is my First Python programm\")"
   ]
  },
  {
   "cell_type": "code",
   "execution_count": 14,
   "id": "a8a92637",
   "metadata": {},
   "outputs": [
    {
     "name": "stdout",
     "output_type": "stream",
     "text": [
      "3.9.12\n"
     ]
    }
   ],
   "source": [
    "from platform import python_version \n",
    "print(python_version())\n"
   ]
  },
  {
   "cell_type": "code",
   "execution_count": 17,
   "id": "1aa317f3",
   "metadata": {},
   "outputs": [
    {
     "name": "stdout",
     "output_type": "stream",
     "text": [
      "Example for multi line commands \n"
     ]
    }
   ],
   "source": [
    "\"\"\"This i am trying with the multi line commands\"\"\"\n",
    "print(\"Example for multi line commands \")"
   ]
  },
  {
   "cell_type": "code",
   "execution_count": 15,
   "id": "38cb07c3",
   "metadata": {},
   "outputs": [
    {
     "name": "stdout",
     "output_type": "stream",
     "text": [
      "python_version()\n"
     ]
    }
   ],
   "source": [
    "from platform import python_version \n",
    "print(\"python_version()\") \n",
    "## the main difference from the above 2 commands are one we are using for printing the statementpython_version the other we are using to print the version \n",
    "\"\"Python takes it as string and displays that sentence .In the other command its take it as a Function "
   ]
  },
  {
   "cell_type": "code",
   "execution_count": 16,
   "id": "be1d7d22",
   "metadata": {},
   "outputs": [
    {
     "name": "stdout",
     "output_type": "stream",
     "text": [
      "this is a example for commands \n"
     ]
    }
   ],
   "source": [
    "#comments in python\n",
    "print(\"this is a example for commands \")"
   ]
  },
  {
   "cell_type": "code",
   "execution_count": 23,
   "id": "fdf38cb5",
   "metadata": {},
   "outputs": [
    {
     "name": "stdout",
     "output_type": "stream",
     "text": [
      "python\n"
     ]
    }
   ],
   "source": [
    "x=8\n",
    "x=\"madhu\"\n",
    "x=\"python\"\n",
    "print(x)\n",
    "# it takes the last assigned value "
   ]
  },
  {
   "cell_type": "code",
   "execution_count": 36,
   "id": "55a35a07",
   "metadata": {},
   "outputs": [],
   "source": [
    "my_name=\"madhu chinni madhavi\"\n"
   ]
  },
  {
   "cell_type": "code",
   "execution_count": 39,
   "id": "0d1ddb80",
   "metadata": {},
   "outputs": [
    {
     "data": {
      "text/plain": [
       "'madhu chinni madhavi'"
      ]
     },
     "execution_count": 39,
     "metadata": {},
     "output_type": "execute_result"
    }
   ],
   "source": [
    "#my_name.capitalize()\n",
    "#my_name.split()\n",
    "#my_name.upper()\n",
    "my_name"
   ]
  },
  {
   "cell_type": "code",
   "execution_count": 40,
   "id": "66057557",
   "metadata": {},
   "outputs": [
    {
     "data": {
      "text/plain": [
       "2408274018832"
      ]
     },
     "execution_count": 40,
     "metadata": {},
     "output_type": "execute_result"
    }
   ],
   "source": [
    "id(my_name)"
   ]
  },
  {
   "cell_type": "code",
   "execution_count": 47,
   "id": "602df282",
   "metadata": {},
   "outputs": [
    {
     "data": {
      "text/plain": [
       "'trying to run a pro'"
      ]
     },
     "execution_count": 47,
     "metadata": {},
     "output_type": "execute_result"
    }
   ],
   "source": [
    "#print(\"Trying to run a program\")\n",
    "print=\"trying to run a pro\"\n",
    "print"
   ]
  },
  {
   "cell_type": "code",
   "execution_count": 50,
   "id": "fcbfc353",
   "metadata": {},
   "outputs": [
    {
     "data": {
      "text/plain": [
       "str"
      ]
     },
     "execution_count": 50,
     "metadata": {},
     "output_type": "execute_result"
    }
   ],
   "source": [
    "type(\"my_name\")"
   ]
  },
  {
   "cell_type": "code",
   "execution_count": 51,
   "id": "756b4949",
   "metadata": {},
   "outputs": [],
   "source": [
    "my_name=10"
   ]
  },
  {
   "cell_type": "code",
   "execution_count": 54,
   "id": "df5f00b3",
   "metadata": {},
   "outputs": [
    {
     "data": {
      "text/plain": [
       "int"
      ]
     },
     "execution_count": 54,
     "metadata": {},
     "output_type": "execute_result"
    }
   ],
   "source": [
    "age=20\n",
    "type(age)"
   ]
  },
  {
   "cell_type": "code",
   "execution_count": 55,
   "id": "34357e8a",
   "metadata": {},
   "outputs": [
    {
     "data": {
      "text/plain": [
       "float"
      ]
     },
     "execution_count": 55,
     "metadata": {},
     "output_type": "execute_result"
    }
   ],
   "source": [
    "age=89.99\n",
    "type(age)"
   ]
  },
  {
   "cell_type": "code",
   "execution_count": 58,
   "id": "2999f49e",
   "metadata": {},
   "outputs": [
    {
     "data": {
      "text/plain": [
       "['name', 'madhu', 'age', 27, 'designation', 'develoeper', 'salary', 20000]"
      ]
     },
     "execution_count": 58,
     "metadata": {},
     "output_type": "execute_result"
    }
   ],
   "source": [
    "student_names=[\"name\",'madhu' ,\"age\",27,\"designation\",'develoeper',\"salary\",20000]\n",
    "student_names"
   ]
  },
  {
   "cell_type": "code",
   "execution_count": 61,
   "id": "506d274b",
   "metadata": {},
   "outputs": [
    {
     "data": {
      "text/plain": [
       "['chin', 'sunny', 'Lan', 'pinky', 'Kate', 'sandy']"
      ]
     },
     "execution_count": 61,
     "metadata": {},
     "output_type": "execute_result"
    }
   ],
   "source": [
    "student_name = [\"chin\", \"sunny\", \"Lan\", \"pinky\", \"Kate\", \"sandy\"]\n",
    "student_name"
   ]
  },
  {
   "cell_type": "code",
   "execution_count": 63,
   "id": "678e46d0",
   "metadata": {},
   "outputs": [
    {
     "data": {
      "text/plain": [
       "(2, 8, 8, 34, 374, 4784)"
      ]
     },
     "execution_count": 63,
     "metadata": {},
     "output_type": "execute_result"
    }
   ],
   "source": [
    "student_sno =(2,8,8,34,374,4784)\n",
    "student_sno"
   ]
  },
  {
   "cell_type": "code",
   "execution_count": 78,
   "id": "c6cb1abc",
   "metadata": {},
   "outputs": [
    {
     "data": {
      "text/plain": [
       "1"
      ]
     },
     "execution_count": 78,
     "metadata": {},
     "output_type": "execute_result"
    }
   ],
   "source": [
    "student_sno.count(2)"
   ]
  },
  {
   "cell_type": "code",
   "execution_count": 86,
   "id": "168c1d9f",
   "metadata": {},
   "outputs": [
    {
     "data": {
      "text/plain": [
       "[{'name': 'madhu', 'age': 1994, 'designation': 'developer'},\n",
       " {'name': 'chinni', 'age': 1993, 'deisgnation': 'uideveloper'}]"
      ]
     },
     "execution_count": 86,
     "metadata": {},
     "output_type": "execute_result"
    }
   ],
   "source": [
    "student_cv=[{\n",
    "    \"name\":\"madhu\",\n",
    "    \"age\":1994,\n",
    "    \"designation\":\"developer\"\n",
    "},\n",
    "    {\n",
    "     \"name\":\"chinni\",\n",
    "      \"age\":1993,\n",
    "        \"deisgnation\":\"uideveloper\"\n",
    "    },\n",
    "]\n",
    "student_cv"
   ]
  },
  {
   "cell_type": "code",
   "execution_count": null,
   "id": "81eb239a",
   "metadata": {},
   "outputs": [],
   "source": []
  },
  {
   "cell_type": "code",
   "execution_count": 83,
   "id": "fb5d5415",
   "metadata": {},
   "outputs": [
    {
     "data": {
      "text/plain": [
       "'developer'"
      ]
     },
     "execution_count": 83,
     "metadata": {},
     "output_type": "execute_result"
    }
   ],
   "source": [
    "student_cv['name']\n",
    "student_cv['age']\n",
    "student_cv['designation']"
   ]
  },
  {
   "cell_type": "code",
   "execution_count": 88,
   "id": "479ce1cb",
   "metadata": {},
   "outputs": [
    {
     "data": {
      "text/plain": [
       "list"
      ]
     },
     "execution_count": 88,
     "metadata": {},
     "output_type": "execute_result"
    }
   ],
   "source": [
    "type(student_cv)"
   ]
  },
  {
   "cell_type": "code",
   "execution_count": 93,
   "id": "a413e74a",
   "metadata": {},
   "outputs": [
    {
     "data": {
      "text/plain": [
       "{'name': 'chinni', 'age': 1993, 'deisgnation': 'uideveloper'}"
      ]
     },
     "execution_count": 93,
     "metadata": {},
     "output_type": "execute_result"
    }
   ],
   "source": [
    "student_cv[1]\n",
    "#student_cv[0]"
   ]
  },
  {
   "cell_type": "code",
   "execution_count": 100,
   "id": "c4b317fb",
   "metadata": {},
   "outputs": [
    {
     "data": {
      "text/plain": [
       "[{'name': 'madhu',\n",
       "  'age': 1994,\n",
       "  'designation': 'developer',\n",
       "  'subjects': ['c', 'c++', 'java', 'oracle', 'social']},\n",
       " {'name': 'chinni',\n",
       "  'age': 1993,\n",
       "  'deisgnation': 'uideveloper',\n",
       "  'subjects': ['python', 'pearl', 'oss']}]"
      ]
     },
     "execution_count": 100,
     "metadata": {},
     "output_type": "execute_result"
    }
   ],
   "source": [
    "student_cv[0]['subjects']=[\"c\",\"c++\",\"java\",\"oracle\",\"social\"]\n",
    "student_cv[1]['subjects']=[\"python\",\"pearl\",'oss']\n",
    "student_cv"
   ]
  },
  {
   "cell_type": "code",
   "execution_count": 99,
   "id": "24fcde08",
   "metadata": {},
   "outputs": [
    {
     "data": {
      "text/plain": [
       "[{'name': 'madhu',\n",
       "  'age': 1994,\n",
       "  'designation': 'developer',\n",
       "  'subjects': ['c', 'c++', 'java', 'oracle', 'history']},\n",
       " {'name': 'chinni',\n",
       "  'age': 1993,\n",
       "  'deisgnation': 'uideveloper',\n",
       "  'subjects': ['python', 'pearl', 'oss']}]"
      ]
     },
     "execution_count": 99,
     "metadata": {},
     "output_type": "execute_result"
    }
   ],
   "source": [
    "student_cv[0]['subjects'].append(\"history\")\n",
    "student_cv"
   ]
  }
 ],
 "metadata": {
  "kernelspec": {
   "display_name": "Python 3 (ipykernel)",
   "language": "python",
   "name": "python3"
  },
  "language_info": {
   "codemirror_mode": {
    "name": "ipython",
    "version": 3
   },
   "file_extension": ".py",
   "mimetype": "text/x-python",
   "name": "python",
   "nbconvert_exporter": "python",
   "pygments_lexer": "ipython3",
   "version": "3.9.12"
  }
 },
 "nbformat": 4,
 "nbformat_minor": 5
}
